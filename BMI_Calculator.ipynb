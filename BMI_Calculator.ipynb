{
 "cells": [
  {
   "cell_type": "markdown",
   "id": "037290cf-db40-497e-ab41-b15221a81c7f",
   "metadata": {},
   "source": [
    "# BMI Calculator"
   ]
  },
  {
   "cell_type": "code",
   "execution_count": null,
   "id": "3205d002-f3ce-4a2e-90b2-b872638baeb3",
   "metadata": {},
   "outputs": [],
   "source": [
    "#BMI = (weight in pounds x 703) / (height in inches x height in inches)\n",
    "\n",
    "\"\"Under 18.5\tUnderweight\tMinimal\n",
    "18.5 - 24.9\tNormal Weight\tMinimal\n",
    "25 - 29.9\tOverweight\tIncreased\n",
    "30 - 34.9\tObese\tHigh\n",
    "35 - 39.9\tSeverely Obese\tVery High\n",
    "40 and over\tMorbidly Obese\tExtremely High\"\"\""
   ]
  },
  {
   "cell_type": "code",
   "execution_count": 47,
   "id": "929b5879-991f-4300-9d67-e868bfa41172",
   "metadata": {},
   "outputs": [
    {
     "name": "stdin",
     "output_type": "stream",
     "text": [
      "Enter your weight in pounds :  132\n",
      "Enter your Height in inches :  66\n"
     ]
    },
    {
     "name": "stdout",
     "output_type": "stream",
     "text": [
      "21.303030303030305\n"
     ]
    }
   ],
   "source": [
    "Weight = int(input('Enter your weight in pounds : '))\n",
    "\n",
    "Height = int(input('Enter your Height in inches : '))\n",
    "\n",
    "BMI = (Weight * 703) / (Height * Height)\n",
    "\n",
    "print(BMI)"
   ]
  },
  {
   "cell_type": "code",
   "execution_count": 48,
   "id": "a15b6da0-1d19-4a70-8f22-96b2643c71d5",
   "metadata": {},
   "outputs": [
    {
     "name": "stdout",
     "output_type": "stream",
     "text": [
      "Normal Weight Minimal\n"
     ]
    }
   ],
   "source": [
    "if BMI < 18.5:\n",
    "    print('Underweight Minimal')\n",
    "elif BMI >= 18.5 and BMI <= 24.9:\n",
    "    print('Normal Weight Minimal')\n",
    "elif BMI >= 25 and BMI <= 29.9:\n",
    "    print('Overweight Increased')\n",
    "elif BMI >= 30 and BMI <= 34.9:\n",
    "    print('Obese High')\n",
    "elif BMI >= 35 and BMI <= 39.9:\n",
    "    print('Severely Obese Very High')\n",
    "else:\n",
    "    print('Morbidly Obese Extremely High')"
   ]
  },
  {
   "cell_type": "markdown",
   "id": "b10c75ab-1971-4927-ad34-520fd3b6d9fb",
   "metadata": {},
   "source": [
    "# The Final Calculator"
   ]
  },
  {
   "cell_type": "code",
   "execution_count": 49,
   "id": "ea5b1634-b49f-4d42-955e-87a92ea99848",
   "metadata": {},
   "outputs": [
    {
     "name": "stdin",
     "output_type": "stream",
     "text": [
      "Enter your name :  Sara\n",
      "Enter your weight in pounds :  132\n",
      "Enter your Height in inches :  66\n"
     ]
    },
    {
     "name": "stdout",
     "output_type": "stream",
     "text": [
      "21.303030303030305\n",
      "Sara you are Normal Weight Minimal\n"
     ]
    }
   ],
   "source": [
    "Name = input('Enter your name : ')\n",
    "\n",
    "Weight = int(input('Enter your weight in pounds : '))\n",
    "\n",
    "Height = int(input('Enter your Height in inches : '))\n",
    "\n",
    "BMI = (Weight * 703) / (Height * Height)\n",
    "\n",
    "print(BMI)\n",
    "\n",
    "if BMI < 18.5:\n",
    "    print(Name + ' you are Underweight Minimal')\n",
    "elif BMI >= 18.5 and BMI <= 24.9:\n",
    "    print(Name + ' you are Normal Weight Minimal')\n",
    "elif BMI >= 25 and BMI <= 29.9:\n",
    "    print(Name + ' you are Overweight Increased')\n",
    "elif BMI >= 30 and BMI <= 34.9:\n",
    "    print(Name + ' you are Obese High')\n",
    "elif BMI >= 35 and BMI <= 39.9:\n",
    "    print(Name + ' you are Severely Obese Very High')\n",
    "else:\n",
    "    print(Name + ' you are Morbidly Obese Extremely High')"
   ]
  },
  {
   "cell_type": "markdown",
   "id": "21a29911-9552-4483-87ea-1a8173fc7422",
   "metadata": {},
   "source": [
    "# The Full Calculator"
   ]
  },
  {
   "cell_type": "code",
   "execution_count": 51,
   "id": "17af1a19-0fa9-4510-ae38-cb3e4c8782d5",
   "metadata": {},
   "outputs": [
    {
     "name": "stdin",
     "output_type": "stream",
     "text": [
      "Enter your name :  Sara\n",
      "Enter your weight in pounds (or press Enter if you don't know):  \n",
      "Enter your weight in kilograms:  60\n",
      "Enter your Height in inches (or press Enter if you don't know):  \n",
      "Enter your height in centimeters:  168\n"
     ]
    },
    {
     "name": "stdout",
     "output_type": "stream",
     "text": [
      "21.256374263554424\n",
      "Sara you are Normal Weight Minimal\n"
     ]
    }
   ],
   "source": [
    "Name = input('Enter your name : ')\n",
    "\n",
    "Pounds_Weight = input(\"Enter your weight in pounds (or press Enter if you don't know): \")\n",
    "if Pounds_Weight:\n",
    "    Weight = float(Pounds_Weight)\n",
    "else:\n",
    "    KG_Weight = float(input(\"Enter your weight in kilograms: \"))\n",
    "    Weight = KG_Weight * 2.20462\n",
    "\n",
    "Inches_Height = input(\"Enter your Height in inches (or press Enter if you don't know): \")\n",
    "if Inches_Height:\n",
    "    Height = float(Inches_Height)\n",
    "else:\n",
    "    CM_Height=float(input(\"Enter your height in centimeters: \"))\n",
    "    Height=CM_Height / 2.54\n",
    "\n",
    "BMI = (Weight * 703) / (Height * Height)\n",
    "\n",
    "print(BMI)\n",
    "\n",
    "if BMI < 18.5:\n",
    "    print(Name + ' you are Underweight Minimal')\n",
    "elif BMI >= 18.5 and BMI <= 24.9:\n",
    "    print(Name + ' you are Normal Weight Minimal')\n",
    "elif BMI >= 25 and BMI <= 29.9:\n",
    "    print(Name + ' you are Overweight Increased')\n",
    "elif BMI >= 30 and BMI <= 34.9:\n",
    "    print(Name + ' you are Obese High')\n",
    "elif BMI >= 35 and BMI <= 39.9:\n",
    "    print(Name + ' you are Severely Obese Very High')\n",
    "else:\n",
    "    print(Name + ' you are Morbidly Obese Extremely High')"
   ]
  },
  {
   "cell_type": "code",
   "execution_count": 52,
   "id": "b0eb9f40-7a53-43fa-84bd-fb25ac7eabef",
   "metadata": {},
   "outputs": [],
   "source": [
    "def Calculator():\n",
    "    Name = input('Enter your name : ')\n",
    "\n",
    "    Pounds_Weight = input(\"Enter your weight in pounds (or press Enter if you don't know): \")\n",
    "    if Pounds_Weight:\n",
    "        Weight = float(Pounds_Weight)\n",
    "    else:\n",
    "        KG_Weight = float(input(\"Enter your weight in kilograms: \"))\n",
    "        Weight = KG_Weight * 2.20462\n",
    "\n",
    "    Inches_Height = input(\"Enter your Height in inches (or press Enter if you don't know): \")\n",
    "    if Inches_Height:\n",
    "        Height = float(Inches_Height)\n",
    "    else:\n",
    "        CM_Height=float(input(\"Enter your height in centimeters: \"))\n",
    "        Height=CM_Height / 2.54\n",
    "\n",
    "    BMI = (Weight * 703) / (Height * Height)\n",
    "\n",
    "    print(BMI)\n",
    "\n",
    "    if BMI < 18.5:\n",
    "        print(Name + ' you are Underweight Minimal')\n",
    "    elif BMI >= 18.5 and BMI <= 24.9:\n",
    "        print(Name + ' you are Normal Weight Minimal')\n",
    "    elif BMI >= 25 and BMI <= 29.9:\n",
    "        print(Name + ' you are Overweight Increased')\n",
    "    elif BMI >= 30 and BMI <= 34.9:\n",
    "        print(Name + ' you are Obese High')\n",
    "    elif BMI >= 35 and BMI <= 39.9:\n",
    "        print(Name + ' you are Severely Obese Very High')\n",
    "    else:\n",
    "        print(Name + ' you are Morbidly Obese Extremely High')"
   ]
  },
  {
   "cell_type": "code",
   "execution_count": 53,
   "id": "280f8ee5-5143-4ffe-9eec-06553c900645",
   "metadata": {},
   "outputs": [
    {
     "name": "stdin",
     "output_type": "stream",
     "text": [
      "Enter your name :  Salma\n",
      "Enter your weight in pounds (or press Enter if you don't know):  \n",
      "Enter your weight in kilograms:  70\n",
      "Enter your Height in inches (or press Enter if you don't know):  \n",
      "Enter your height in centimeters:  168\n"
     ]
    },
    {
     "name": "stdout",
     "output_type": "stream",
     "text": [
      "24.799103307480163\n",
      "Salma you are Normal Weight Minimal\n"
     ]
    }
   ],
   "source": [
    "Calculator()"
   ]
  }
 ],
 "metadata": {
  "kernelspec": {
   "display_name": "Python 3 (ipykernel)",
   "language": "python",
   "name": "python3"
  },
  "language_info": {
   "codemirror_mode": {
    "name": "ipython",
    "version": 3
   },
   "file_extension": ".py",
   "mimetype": "text/x-python",
   "name": "python",
   "nbconvert_exporter": "python",
   "pygments_lexer": "ipython3",
   "version": "3.13.1"
  }
 },
 "nbformat": 4,
 "nbformat_minor": 5
}
